{
 "cells": [
  {
   "cell_type": "markdown",
   "metadata": {},
   "source": [
    "# Profiteering Landlords\n",
    "\n",
    "## TOC (based on assignment reqs)\n",
    "\n",
    "Foreword: I think this notebook tells a decent story, but if you want to tick off the boxes, here are the 5 components the assignment listed.\n",
    "\n",
    "1. [Identify the problem](#Identify-the-problem:-Bad-Landlords)\n",
    "2. [Descriptive Statistics](#These-are-the-descriptive-statistics-and-scatterplot-for-the-two-key-variables.)\n",
    "3. [Mapping](#Visualization)\n",
    "4. [Analysis](#Modelling)\n",
    "5. [Discussion](#Remarks-and-how-to-use-this-analysis)"
   ]
  },
  {
   "cell_type": "code",
   "execution_count": 139,
   "metadata": {
    "collapsed": false
   },
   "outputs": [
    {
     "name": "stdout",
     "output_type": "stream",
     "text": [
      "-rw-rw-r-- 1 vagrant vagrant 4.4G Oct  3 09:40 311_Service_Requests_from_2014_to_Present.csv\n",
      "File ‘nyc_pluto_16v2 .zip’ already there; not retrieving.\n",
      "\n",
      "Archive:  nyc_pluto_16v2 .zip\n",
      "  inflating: BORO_zip_files_csv/BK.csv  \n",
      "  inflating: BORO_zip_files_csv/BX.csv  \n",
      "  inflating: BORO_zip_files_csv/MN.csv  \n",
      "  inflating: BORO_zip_files_csv/PLUTODD16v2.pdf  \n",
      "  inflating: BORO_zip_files_csv/Plutolay16v2.pdf  \n",
      "  inflating: BORO_zip_files_csv/PlutoReadme16v2.pdf  \n",
      "  inflating: BORO_zip_files_csv/QN.csv  \n",
      "  inflating: BORO_zip_files_csv/SI.csv  \n",
      "total 291M\n",
      "-rw-rw-r-- 1 vagrant vagrant  77M Oct 28  2016 BK.csv\n",
      "-rw-rw-r-- 1 vagrant vagrant  33M Oct 28  2016 BX.csv\n",
      "-rw-rw-r-- 1 vagrant vagrant  17M Oct 28  2016 MN.csv\n",
      "-rw-rw-r-- 1 vagrant vagrant 373K Oct 27  2016 PLUTODD16v2.pdf\n",
      "-rw-rw-r-- 1 vagrant vagrant  89K Oct 27  2016 Plutolay16v2.pdf\n",
      "-rw-rw-r-- 1 vagrant vagrant  50K Oct 28  2016 PlutoReadme16v2.pdf\n",
      "-rw-rw-r-- 1 vagrant vagrant 119M Oct 28  2016 QN.csv\n",
      "-rw-rw-r-- 1 vagrant vagrant  46M Oct 28  2016 SI.csv\n"
     ]
    }
   ],
   "source": [
    "!ls -lh 311_Service_Requests_from_2014_to_Present.csv\n",
    "!wget -nc https://www1.nyc.gov/assets/planning/download/zip/data-maps/open-data/nyc_pluto_16v2%20.zip\n",
    "!unzip -o 'nyc_pluto_16v2 .zip'\n",
    "!ls -lh BORO_zip_files_csv/"
   ]
  },
  {
   "cell_type": "code",
   "execution_count": 2,
   "metadata": {
    "collapsed": false
   },
   "outputs": [
    {
     "name": "stderr",
     "output_type": "stream",
     "text": [
      "/opt/conda/lib/python2.7/site-packages/IPython/core/interactiveshell.py:2705: DtypeWarning: Columns (8,17,40,47,48) have mixed types. Specify dtype option on import or set low_memory=False.\n",
      "  interactivity=interactivity, compiler=compiler, result=result)\n"
     ]
    }
   ],
   "source": [
    "import pandas as pd\n",
    "df = pd.read_csv(\"311_Service_Requests_from_2014_to_Present.csv\")"
   ]
  },
  {
   "cell_type": "markdown",
   "metadata": {
    "collapsed": true
   },
   "source": [
    "## Identify the problem: Bad Landlords\n",
    "The first NYC apartment I lived in had the gas shut off for 6+ months. Looking at the landlord's buildings, this was a theme. Maybe 7 of the landlord's ~20 buildings were in this situation. I haven't run the baseline numbers, but this is almost certainly not due to random chance (i.e. legitimate failures). More likely, the landlord's buildings were mostly rent stabilized units (as our unit was), and pushing people out faster gets those units closer to being rentable at market rate.\n",
    "\n",
    "I'm going to do the same analysis with another complaint type - heat and hot water -  to identify potentially exploitative landlords."
   ]
  },
  {
   "cell_type": "markdown",
   "metadata": {},
   "source": [
    "### Data Cleaning\n",
    "I just join up PLUTO and 311 complaints here by a concatenation of address and zipcode. This is probably really janky."
   ]
  },
  {
   "cell_type": "code",
   "execution_count": 3,
   "metadata": {
    "collapsed": true
   },
   "outputs": [],
   "source": [
    "filtered = df[df[\"Complaint Type\"] == \"HEAT/HOT WATER\"]\n",
    "filtered = filtered[filtered[\"Descriptor\"] == \"ENTIRE BUILDING\"]"
   ]
  },
  {
   "cell_type": "code",
   "execution_count": 4,
   "metadata": {
    "collapsed": false,
    "scrolled": true
   },
   "outputs": [
    {
     "name": "stderr",
     "output_type": "stream",
     "text": [
      "/opt/conda/lib/python2.7/site-packages/ipykernel/__main__.py:3: DtypeWarning: Columns (18,19,21,22,23,63,64,79) have mixed types. Specify dtype option on import or set low_memory=False.\n",
      "  app.launch_new_instance()\n",
      "/opt/conda/lib/python2.7/site-packages/ipykernel/__main__.py:3: DtypeWarning: Columns (18,19,21,22,23,24,25,63,64,79) have mixed types. Specify dtype option on import or set low_memory=False.\n",
      "  app.launch_new_instance()\n",
      "/opt/conda/lib/python2.7/site-packages/ipykernel/__main__.py:3: DtypeWarning: Columns (19,22,23,25,63,79) have mixed types. Specify dtype option on import or set low_memory=False.\n",
      "  app.launch_new_instance()\n",
      "/opt/conda/lib/python2.7/site-packages/ipykernel/__main__.py:3: DtypeWarning: Columns (18,19,21,22,63,64,79) have mixed types. Specify dtype option on import or set low_memory=False.\n",
      "  app.launch_new_instance()\n",
      "/opt/conda/lib/python2.7/site-packages/ipykernel/__main__.py:3: DtypeWarning: Columns (18,19,21,22,63,64,76) have mixed types. Specify dtype option on import or set low_memory=False.\n",
      "  app.launch_new_instance()\n"
     ]
    }
   ],
   "source": [
    "import glob\n",
    "fs = glob.glob(\"BORO_zip_files_csv/*.csv\")\n",
    "pluto = pd.concat(pd.read_csv(f) for f in fs)"
   ]
  },
  {
   "cell_type": "code",
   "execution_count": 5,
   "metadata": {
    "collapsed": false,
    "scrolled": true
   },
   "outputs": [],
   "source": [
    "import numpy as np\n",
    "pluto.dropna(inplace=True, subset=[\"ZipCode\", \"Address\"])\n",
    "filtered.dropna(inplace=True, subset=[\"Incident Address\", \"Incident Zip\"])\n",
    "pluto[\"ZipCode\"] = pluto[\"ZipCode\"].apply(str)\n",
    "pluto[\"zipaddress\"] = pluto[[\"Address\", \"ZipCode\"]].apply(lambda x:\"\".join(x), axis=1)\n",
    "filtered[\"Incident Zip\"] = filtered[\"Incident Zip\"].apply(str)\n",
    "filtered[\"zipaddress\"] = filtered[[\"Incident Address\", \"Incident Zip\"]].apply(lambda x: \"\".join(x), axis=1)"
   ]
  },
  {
   "cell_type": "code",
   "execution_count": 6,
   "metadata": {
    "collapsed": false
   },
   "outputs": [],
   "source": [
    "merged = filtered.merge(pluto, on=\"zipaddress\")"
   ]
  },
  {
   "cell_type": "markdown",
   "metadata": {},
   "source": [
    "### Initial Exploration\n",
    "\n",
    "#### First thing: Landlords with the /most/ complaints"
   ]
  },
  {
   "cell_type": "code",
   "execution_count": 7,
   "metadata": {
    "collapsed": false
   },
   "outputs": [
    {
     "data": {
      "text/plain": [
       "count    24909.000000\n",
       "mean         7.759324\n",
       "std         29.548862\n",
       "min          1.000000\n",
       "25%          1.000000\n",
       "50%          2.000000\n",
       "75%          6.000000\n",
       "max       2242.000000\n",
       "dtype: float64"
      ]
     },
     "execution_count": 7,
     "metadata": {},
     "output_type": "execute_result"
    }
   ],
   "source": [
    "most_complaints = merged.groupby(\"OwnerName\").size().sort_values(ascending=False)\n",
    "most_complaints.describe()"
   ]
  },
  {
   "cell_type": "code",
   "execution_count": 8,
   "metadata": {
    "collapsed": false
   },
   "outputs": [
    {
     "data": {
      "text/plain": [
       "<matplotlib.text.Text at 0x7f46c9a71910>"
      ]
     },
     "execution_count": 8,
     "metadata": {},
     "output_type": "execute_result"
    },
    {
     "data": {
      "image/png": "[encoded data removed]",
      "text/plain": [
       "<matplotlib.figure.Figure at 0x7f46c4de5810>"
      ]
     },
     "metadata": {},
     "output_type": "display_data"
    }
   ],
   "source": [
    "import matplotlib\n",
    "%matplotlib inline\n",
    "\n",
    "ax = most_complaints.hist()\n",
    "ax.set_yscale(\"log\")\n",
    "ax.set_ylabel(\"Log count\")\n",
    "ax.set_xlabel(\"# of complaints\")\n",
    "ax.set_title(\"# of complaints per landlord\")"
   ]
  },
  {
   "cell_type": "markdown",
   "metadata": {},
   "source": [
    "#### Second thing: how many buildings each landlord owns"
   ]
  },
  {
   "cell_type": "code",
   "execution_count": 12,
   "metadata": {
    "collapsed": false
   },
   "outputs": [
    {
     "name": "stdout",
     "output_type": "stream",
     "text": [
      "count    736692.000000\n",
      "mean          1.148367\n",
      "std           5.309295\n",
      "min           1.000000\n",
      "25%           1.000000\n",
      "50%           1.000000\n",
      "75%           1.000000\n",
      "max        3327.000000\n",
      "dtype: float64\n"
     ]
    },
    {
     "data": {
      "text/plain": [
       "OwnerName\n",
       "PARKS AND RECREATION     3327\n",
       "DCAS                     1670\n",
       "HOUSING PRESERVATION     1319\n",
       "NYC HOUSING AUTHORITY    1101\n",
       "DCAS/DEPARTMENT OF ED    1002\n",
       "OWNER / AGENT             942\n",
       "DEPT OF ENVIRONMENTAL     591\n",
       "NYC DEPT OF HIGHWAYS      567\n",
       "HOUSING TRUST FUND CO     555\n",
       "LONG ISLAND RAIL ROAD     377\n",
       "NEW YORK CITY TRANSIT     265\n",
       "FIRE DEPARTMENT           254\n",
       "NYC DSBS                  235\n",
       "POLICE DEPARTMENT         215\n",
       "CNY/NYCTA                 208\n",
       "CITY OF NEW YORK          194\n",
       "NYC PARKS                 174\n",
       "JOINTLY OWNED PLAYGRO     167\n",
       "TRUSTEES OF COLUMBIA      163\n",
       "THE CITY OF NEW YORK/     149\n",
       "NYC DOT                   146\n",
       "NYS DOT                   130\n",
       "DEPT OF GENERAL SERVI     122\n",
       "THE CITY OF NEW YORK      119\n",
       "SANITATION                112\n",
       "NEW YORK UNIVERSITY        96\n",
       "FEDERAL NATIONAL MORT      94\n",
       "DEUTSCHE BANK NATIONA      79\n",
       "NORTHEASTERN CONFEREN      78\n",
       "MHANY 2015 HOUSING DE      78\n",
       "MTA - STATEN ISLAND R      75\n",
       "CONSOLIDATED EDISON C      73\n",
       "NEW YORK PUBLIC LIBRA      72\n",
       "NYC DEP                    72\n",
       "DHS                        71\n",
       "SILVERSHORE PROPERTIE      68\n",
       "NYC HOUSING DEVELOPME      67\n",
       "MTA - METRO NORTH          66\n",
       "NYC HPD                    65\n",
       "NEW YORK CITY HOUSING      65\n",
       "NYC PARTNERSHIP HOUSI      64\n",
       "GREATER NEW YORK CORP      62\n",
       "PENRITH URF LLC            62\n",
       "IMPACCT HOUSING DEVEL      59\n",
       "ROMAN CATHOLIC CHURCH      59\n",
       "BROOKLYN PUBLIC LIBRA      58\n",
       "U.S. BANK NATIONAL AS      56\n",
       "NEW YORK CITY              56\n",
       "PORT AUTHORITY             54\n",
       "WELLS FARGO BANK, N.A      53\n",
       "dtype: int64"
      ]
     },
     "execution_count": 12,
     "metadata": {},
     "output_type": "execute_result"
    },
    {
     "data": {
      "image/png": "[encoded data removed]",
      "text/plain": [
       "<matplotlib.figure.Figure at 0x7f46c99b0550>"
      ]
     },
     "metadata": {},
     "output_type": "display_data"
    }
   ],
   "source": [
    "num_owned = pluto.groupby(\"OwnerName\").size()\n",
    "print num_owned.describe()\n",
    "num_owned.hist()\n",
    "num_owned.sort_values(ascending=False).head(50)"
   ]
  },
  {
   "cell_type": "markdown",
   "metadata": {},
   "source": [
    "Uninteresting. Let's try dropping some of those city agencies we don't care about."
   ]
  },
  {
   "cell_type": "code",
   "execution_count": 10,
   "metadata": {
    "collapsed": false
   },
   "outputs": [
    {
     "data": {
      "text/plain": [
       "<matplotlib.text.Text at 0x7f46c8fb0a10>"
      ]
     },
     "execution_count": 10,
     "metadata": {},
     "output_type": "execute_result"
    },
    {
     "data": {
      "image/png": "[encoded data removed]",
      "text/plain": [
       "<matplotlib.figure.Figure at 0x7f46c60d8210>"
      ]
     },
     "metadata": {},
     "output_type": "display_data"
    }
   ],
   "source": [
    "ax = num_owned[num_owned < 149].hist(bins=50)\n",
    "ax.set_yscale(\"log\")\n",
    "ax.set_xlabel(\"Num Builings owned\")\n",
    "ax.set_ylabel(\"Log count\")"
   ]
  },
  {
   "cell_type": "code",
   "execution_count": 11,
   "metadata": {
    "collapsed": false
   },
   "outputs": [
    {
     "data": {
      "text/plain": [
       "0.9204199312602824"
      ]
     },
     "execution_count": 11,
     "metadata": {},
     "output_type": "execute_result"
    }
   ],
   "source": [
    "num_owned[num_owned == 1].size / float(num_owned.size)"
   ]
  },
  {
   "cell_type": "markdown",
   "metadata": {},
   "source": [
    "### So we can see that really, for the most part when it comes to NYC buildings we're dealing with 1-building owners. This sort of analysis doesn't lend itself to 1-building owners. However, we can still get insight into owners of >1 and < 100 buildings. \n",
    "\n",
    "We might care about 1-building owners if we included a variety of other factors and saw the number of dimensions along which they were receiving complaints."
   ]
  },
  {
   "cell_type": "code",
   "execution_count": 17,
   "metadata": {
    "collapsed": false
   },
   "outputs": [
    {
     "data": {
      "text/plain": [
       "<matplotlib.text.Text at 0x7f46aeb71a10>"
      ]
     },
     "execution_count": 17,
     "metadata": {},
     "output_type": "execute_result"
    },
    {
     "data": {
      "image/png": "[encoded data removed]",
      "text/plain": [
       "<matplotlib.figure.Figure at 0x7f46b34a5290>"
      ]
     },
     "metadata": {},
     "output_type": "display_data"
    }
   ],
   "source": [
    "owns_multiple_buildings_ix = num_owned[(num_owned > 1) & (num_owned < 100)].index\n",
    "owns_multiple_buildings = pluto[pluto[\"OwnerName\"].isin(owns_multiple_buildings_ix)]\n",
    "ax = owns_multiple_buildings.groupby(\"OwnerName\").size().hist()\n",
    "ax.set_title(\"Number of buildings owned for owners with >1 and <100\")\n",
    "ax.set_yscale(\"log\")\n",
    "ax.set_xlabel(\"Num Builings owned\")\n",
    "ax.set_ylabel(\"Log count\")"
   ]
  },
  {
   "cell_type": "markdown",
   "metadata": {},
   "source": [
    "This still leaves us with a good number of owners with <=20 buildings, which should be especially interesting."
   ]
  },
  {
   "cell_type": "code",
   "execution_count": 59,
   "metadata": {
    "collapsed": false
   },
   "outputs": [
    {
     "data": {
      "text/plain": [
       "45696"
      ]
     },
     "execution_count": 59,
     "metadata": {},
     "output_type": "execute_result"
    }
   ],
   "source": [
    "merged = filtered.merge(owns_multiple_buildings, on=\"zipaddress\")\n",
    "len(merged)"
   ]
  },
  {
   "cell_type": "markdown",
   "metadata": {},
   "source": [
    "### Visualization"
   ]
  },
  {
   "cell_type": "code",
   "execution_count": 60,
   "metadata": {
    "collapsed": false
   },
   "outputs": [],
   "source": [
    "import geopandas as gpd\n",
    "import shapely\n",
    "complaint_counts = merged.groupby(\"zipaddress\").size().reset_index()\n",
    "complaint_counts.columns = [\"zipaddress\", \"num_complaints\"]\n",
    "for item in [\"num_complaints_y\", \"num_complaints_x\", \"num_complaints\"]:\n",
    "    try:\n",
    "        merged.drop(item)\n",
    "    except:\n",
    "        pass\n",
    "merged = merged.merge(complaint_counts, on=\"zipaddress\")\n",
    "merged[\"geometry\"] = merged[[\"Latitude\", \"Longitude\"]].apply(lambda x: shapely.geometry.Point((x[1], x[0])), axis=1)\n",
    "merged = gpd.GeoDataFrame(merged)"
   ]
  },
  {
   "cell_type": "code",
   "execution_count": 36,
   "metadata": {
    "collapsed": false
   },
   "outputs": [
    {
     "name": "stdout",
     "output_type": "stream",
     "text": [
      "File ‘boroughs.geojson’ already there; not retrieving.\r\n",
      "\r\n"
     ]
    }
   ],
   "source": [
    "!wget -nc https://raw.githubusercontent.com/dwillis/nyc-maps/master/boroughs.geojson\n",
    "boroughs = gpd.read_file(\"boroughs.geojson\")"
   ]
  },
  {
   "cell_type": "code",
   "execution_count": 137,
   "metadata": {
    "collapsed": false
   },
   "outputs": [
    {
     "data": {
      "text/plain": [
       "<matplotlib.text.Text at 0x7f468c092750>"
      ]
     },
     "execution_count": 137,
     "metadata": {},
     "output_type": "execute_result"
    },
    {
     "data": {
      "image/png": "[encoded data removed]",
      "text/plain": [
       "<matplotlib.figure.Figure at 0x7f468c024f50>"
      ]
     },
     "metadata": {},
     "output_type": "display_data"
    }
   ],
   "source": [
    "ax = boroughs.plot(figsize=(16, 8), color=\"red\")\n",
    "merged[merged[\"num_complaints\"] > 10].plot(ax=ax)\n",
    "ax.set_title(\"buildings with >10 complaints\")\n",
    "ax.set_xlabel(\"i'm sorry for the awful colors\")"
   ]
  },
  {
   "cell_type": "markdown",
   "metadata": {},
   "source": [
    "We can see that people complain a lot all over the city (except Staten Island). Let's look at violations, too."
   ]
  },
  {
   "cell_type": "code",
   "execution_count": 77,
   "metadata": {
    "collapsed": false
   },
   "outputs": [
    {
     "name": "stdout",
     "output_type": "stream",
     "text": [
      "1242\n"
     ]
    },
    {
     "data": {
      "text/plain": [
       "array([ 'The Department of Housing Preservation and Development inspected the following conditions. Violations were issued. Information about specific violations is available at www.nyc.gov/hpd.',\n",
       "       'The Department of Housing Preservation and Development was not able to gain access to your apartment to inspect for a lack of heat or hot water. However, HPD was able to verify that heat or hot water was inadequate by inspecting another apartment and a violation was issued. Information about specific violations is available at www.nyc.gov/hpd.',\n",
       "       'The Department of Housing Preservation and Development inspected the following conditions. Violations were previously issued for these conditions. Information about specific violations is available at www.nyc.gov/hpd.'], dtype=object)"
      ]
     },
     "execution_count": 77,
     "metadata": {},
     "output_type": "execute_result"
    },
    {
     "data": {
      "image/png": "[encoded data removed]",
      "text/plain": [
       "<matplotlib.figure.Figure at 0x7f46b9dfdf10>"
      ]
     },
     "metadata": {},
     "output_type": "display_data"
    }
   ],
   "source": [
    "# this works because case sensitivity. proof in output below\n",
    "strings = [\"Violations were issued\",\n",
    "           \"Violations were previously issued\",\n",
    "           \"and a violation was issued\"]\n",
    "condition = (merged[\"Resolution Description\"].str.contains(strings[0]) |\\\n",
    "             merged[\"Resolution Description\"].str.contains(strings[1]) |\\\n",
    "             merged[\"Resolution Description\"].str.contains(strings[2]))\n",
    "bad_complaints = merged[condition]\n",
    "\n",
    "\n",
    "ax = boroughs.plot(figsize=(16, 8), color='red')\n",
    "ax.set_title(\"Plot of buildings that have received at least 1 HPD violation\")\n",
    "bad_complaints.plot(ax=ax)\n",
    "print len(bad_complaints)\n",
    "bad_complaints['Resolution Description'].unique()"
   ]
  },
  {
   "cell_type": "markdown",
   "metadata": {},
   "source": [
    "We can see that these sorts of violations basically occur all over the city. But there appears to be especially high density in northeast brooklyn, upper manhattan, and the bronx."
   ]
  },
  {
   "cell_type": "markdown",
   "metadata": {},
   "source": [
    "# Analysis: count the number of buildings with at least 1 complaint owned by a particular landlord"
   ]
  },
  {
   "cell_type": "code",
   "execution_count": 39,
   "metadata": {
    "collapsed": false
   },
   "outputs": [],
   "source": [
    "num_offending_buildings = merged.groupby(\"zipaddress\").first().reset_index().groupby(\"OwnerName\").size().sort_values(ascending=False).to_frame()\n",
    "num_offending_buildings.columns = [\"# offending buildings\"]"
   ]
  },
  {
   "cell_type": "code",
   "execution_count": 66,
   "metadata": {
    "collapsed": false
   },
   "outputs": [],
   "source": [
    "baseline = owns_multiple_buildings.groupby(\"OwnerName\").size().sort_values(ascending=False).to_frame()\n",
    "baseline.columns = [\"# buildings owned\"]"
   ]
  },
  {
   "cell_type": "code",
   "execution_count": 41,
   "metadata": {
    "collapsed": false
   },
   "outputs": [
    {
     "data": {
      "text/plain": [
       "<matplotlib.axes._subplots.AxesSubplot at 0x7f46b9ab1150>"
      ]
     },
     "execution_count": 41,
     "metadata": {},
     "output_type": "execute_result"
    },
    {
     "data": {
      "image/png": "[encoded data removed]",
      "text/plain": [
       "<matplotlib.figure.Figure at 0x7f46ba977e50>"
      ]
     },
     "metadata": {},
     "output_type": "display_data"
    }
   ],
   "source": [
    "joined = num_offending_buildings.join(baseline)\n",
    "joined['ratio'] = (joined[\"# offending buildings\"]/joined['# buildings owned'])\n",
    "joined.plot('# buildings owned', '# offending buildings', kind='scatter')"
   ]
  },
  {
   "cell_type": "code",
   "execution_count": 44,
   "metadata": {
    "collapsed": false
   },
   "outputs": [
    {
     "data": {
      "text/html": [
       "<div>\n",
       "<table border=\"1\" class=\"dataframe\">\n",
       "  <thead>\n",
       "    <tr style=\"text-align: right;\">\n",
       "      <th></th>\n",
       "      <th># offending buildings</th>\n",
       "      <th># buildings owned</th>\n",
       "      <th>ratio</th>\n",
       "      <th>bayesian_ratio</th>\n",
       "    </tr>\n",
       "    <tr>\n",
       "      <th>OwnerName</th>\n",
       "      <th></th>\n",
       "      <th></th>\n",
       "      <th></th>\n",
       "      <th></th>\n",
       "    </tr>\n",
       "  </thead>\n",
       "  <tbody>\n",
       "    <tr>\n",
       "      <th>222-224 WEST 21ST STR</th>\n",
       "      <td>2</td>\n",
       "      <td>2</td>\n",
       "      <td>1.0</td>\n",
       "      <td>0.642857</td>\n",
       "    </tr>\n",
       "    <tr>\n",
       "      <th>PAUL AND NANCY ARZANI</th>\n",
       "      <td>2</td>\n",
       "      <td>2</td>\n",
       "      <td>1.0</td>\n",
       "      <td>0.642857</td>\n",
       "    </tr>\n",
       "    <tr>\n",
       "      <th>55-57 CLIFTON PL LLC</th>\n",
       "      <td>2</td>\n",
       "      <td>2</td>\n",
       "      <td>1.0</td>\n",
       "      <td>0.642857</td>\n",
       "    </tr>\n",
       "    <tr>\n",
       "      <th>WALTON AVE HOLDINGS L</th>\n",
       "      <td>2</td>\n",
       "      <td>2</td>\n",
       "      <td>1.0</td>\n",
       "      <td>0.642857</td>\n",
       "    </tr>\n",
       "    <tr>\n",
       "      <th>ORION REALTY LLC</th>\n",
       "      <td>2</td>\n",
       "      <td>2</td>\n",
       "      <td>1.0</td>\n",
       "      <td>0.642857</td>\n",
       "    </tr>\n",
       "  </tbody>\n",
       "</table>\n",
       "</div>"
      ],
      "text/plain": [
       "                       # offending buildings  # buildings owned  ratio  \\\n",
       "OwnerName                                                                \n",
       "222-224 WEST 21ST STR                      2                  2    1.0   \n",
       "PAUL AND NANCY ARZANI                      2                  2    1.0   \n",
       "55-57 CLIFTON PL LLC                       2                  2    1.0   \n",
       "WALTON AVE HOLDINGS L                      2                  2    1.0   \n",
       "ORION REALTY LLC                           2                  2    1.0   \n",
       "\n",
       "                       bayesian_ratio  \n",
       "OwnerName                              \n",
       "222-224 WEST 21ST STR        0.642857  \n",
       "PAUL AND NANCY ARZANI        0.642857  \n",
       "55-57 CLIFTON PL LLC         0.642857  \n",
       "WALTON AVE HOLDINGS L        0.642857  \n",
       "ORION REALTY LLC             0.642857  "
      ]
     },
     "execution_count": 44,
     "metadata": {},
     "output_type": "execute_result"
    },
    {
     "data": {
      "image/png": "[encoded data removed]",
      "text/plain": [
       "<matplotlib.figure.Figure at 0x7f46baa8ae10>"
      ]
     },
     "metadata": {},
     "output_type": "display_data"
    }
   ],
   "source": [
    "joined['ratio'].hist()\n",
    "joined.sort_values('ratio', ascending=False).head()"
   ]
  },
  {
   "cell_type": "markdown",
   "metadata": {},
   "source": [
    "As we can see, we run into a classic error: we still see many landlords owning 2 buildings and having received complaints for all 2 buildings. There are a couple of ways to deal with this\n",
    "\n",
    "1. Bayesian smoothing - we could basically say that we expect a certain heat / hot water complaint rate and add it in as prior knowledge\n",
    "2. Complaint filtering - maybe we only want to look at complaints that have certain properties."
   ]
  },
  {
   "cell_type": "markdown",
   "metadata": {},
   "source": [
    "### Bayesian Smoothing\n",
    "looking at the above histogram, we can see a bimodal distribution: landlords with 2 buildings have probably received at least 1 complaint for each building (the 100% mark), whereas 50% seems like a reasonable number for other landlords. It's quite possible that landlords owning 1-2 buildings are engaging in this sort of hostile practice, but we probably can't get at it in the data here.\n",
    "\n",
    "We'll now do the bayesian equivalent of adding 5 buildings to each landlord's count and assuming 1/2 of them have received a complaint."
   ]
  },
  {
   "cell_type": "code",
   "execution_count": 127,
   "metadata": {
    "collapsed": false
   },
   "outputs": [
    {
     "data": {
      "text/html": [
       "<div>\n",
       "<table border=\"1\" class=\"dataframe\">\n",
       "  <thead>\n",
       "    <tr style=\"text-align: right;\">\n",
       "      <th></th>\n",
       "      <th># offending buildings</th>\n",
       "      <th># buildings owned</th>\n",
       "      <th>ratio</th>\n",
       "      <th>bayesian_ratio</th>\n",
       "    </tr>\n",
       "    <tr>\n",
       "      <th>OwnerName</th>\n",
       "      <th></th>\n",
       "      <th></th>\n",
       "      <th></th>\n",
       "      <th></th>\n",
       "    </tr>\n",
       "  </thead>\n",
       "  <tbody>\n",
       "    <tr>\n",
       "      <th>TROY INDUSTRIES, LLC</th>\n",
       "      <td>6</td>\n",
       "      <td>6</td>\n",
       "      <td>1.000000</td>\n",
       "      <td>0.772727</td>\n",
       "    </tr>\n",
       "    <tr>\n",
       "      <th>UNION STREET HOUSES O</th>\n",
       "      <td>6</td>\n",
       "      <td>6</td>\n",
       "      <td>1.000000</td>\n",
       "      <td>0.772727</td>\n",
       "    </tr>\n",
       "    <tr>\n",
       "      <th>EAST TREMONT BRONX HO</th>\n",
       "      <td>6</td>\n",
       "      <td>6</td>\n",
       "      <td>1.000000</td>\n",
       "      <td>0.772727</td>\n",
       "    </tr>\n",
       "    <tr>\n",
       "      <th>NEWSTART PROPERTIES,I</th>\n",
       "      <td>6</td>\n",
       "      <td>6</td>\n",
       "      <td>1.000000</td>\n",
       "      <td>0.772727</td>\n",
       "    </tr>\n",
       "    <tr>\n",
       "      <th>CYPRESS COURT ASSOCIA</th>\n",
       "      <td>6</td>\n",
       "      <td>6</td>\n",
       "      <td>1.000000</td>\n",
       "      <td>0.772727</td>\n",
       "    </tr>\n",
       "    <tr>\n",
       "      <th>ADONAI REALTY L.P.</th>\n",
       "      <td>6</td>\n",
       "      <td>6</td>\n",
       "      <td>1.000000</td>\n",
       "      <td>0.772727</td>\n",
       "    </tr>\n",
       "    <tr>\n",
       "      <th>GVS PROPERTIES IV, LL</th>\n",
       "      <td>9</td>\n",
       "      <td>10</td>\n",
       "      <td>0.900000</td>\n",
       "      <td>0.766667</td>\n",
       "    </tr>\n",
       "    <tr>\n",
       "      <th>COBB REALTY LLC</th>\n",
       "      <td>5</td>\n",
       "      <td>5</td>\n",
       "      <td>1.000000</td>\n",
       "      <td>0.750000</td>\n",
       "    </tr>\n",
       "    <tr>\n",
       "      <th>NEIGHBORHOOD STAB ASO</th>\n",
       "      <td>5</td>\n",
       "      <td>5</td>\n",
       "      <td>1.000000</td>\n",
       "      <td>0.750000</td>\n",
       "    </tr>\n",
       "    <tr>\n",
       "      <th>ZEV ZAFIR INC.</th>\n",
       "      <td>5</td>\n",
       "      <td>5</td>\n",
       "      <td>1.000000</td>\n",
       "      <td>0.750000</td>\n",
       "    </tr>\n",
       "    <tr>\n",
       "      <th>WFHA BROOKLYN RESTORA</th>\n",
       "      <td>5</td>\n",
       "      <td>5</td>\n",
       "      <td>1.000000</td>\n",
       "      <td>0.750000</td>\n",
       "    </tr>\n",
       "    <tr>\n",
       "      <th>GREENPORT PRESERVATIO</th>\n",
       "      <td>5</td>\n",
       "      <td>5</td>\n",
       "      <td>1.000000</td>\n",
       "      <td>0.750000</td>\n",
       "    </tr>\n",
       "    <tr>\n",
       "      <th>ZEVRONE REALTY CORP</th>\n",
       "      <td>10</td>\n",
       "      <td>12</td>\n",
       "      <td>0.833333</td>\n",
       "      <td>0.735294</td>\n",
       "    </tr>\n",
       "    <tr>\n",
       "      <th>NY AFFORDABLE HOUSING</th>\n",
       "      <td>7</td>\n",
       "      <td>8</td>\n",
       "      <td>0.875000</td>\n",
       "      <td>0.730769</td>\n",
       "    </tr>\n",
       "    <tr>\n",
       "      <th>HIGHBRIDGE COMMUNITY/</th>\n",
       "      <td>7</td>\n",
       "      <td>8</td>\n",
       "      <td>0.875000</td>\n",
       "      <td>0.730769</td>\n",
       "    </tr>\n",
       "    <tr>\n",
       "      <th>REGO REALTY LLC</th>\n",
       "      <td>4</td>\n",
       "      <td>4</td>\n",
       "      <td>1.000000</td>\n",
       "      <td>0.722222</td>\n",
       "    </tr>\n",
       "    <tr>\n",
       "      <th>LUCKY 430 REALTY LLC</th>\n",
       "      <td>4</td>\n",
       "      <td>4</td>\n",
       "      <td>1.000000</td>\n",
       "      <td>0.722222</td>\n",
       "    </tr>\n",
       "    <tr>\n",
       "      <th>GRAND AVENUE INVESTOR</th>\n",
       "      <td>4</td>\n",
       "      <td>4</td>\n",
       "      <td>1.000000</td>\n",
       "      <td>0.722222</td>\n",
       "    </tr>\n",
       "    <tr>\n",
       "      <th>ELMBACK OWNERS</th>\n",
       "      <td>4</td>\n",
       "      <td>4</td>\n",
       "      <td>1.000000</td>\n",
       "      <td>0.722222</td>\n",
       "    </tr>\n",
       "    <tr>\n",
       "      <th>RECLAIM ROUND II HOUS</th>\n",
       "      <td>4</td>\n",
       "      <td>4</td>\n",
       "      <td>1.000000</td>\n",
       "      <td>0.722222</td>\n",
       "    </tr>\n",
       "    <tr>\n",
       "      <th>MMIKP BRONX REALTY LL</th>\n",
       "      <td>4</td>\n",
       "      <td>4</td>\n",
       "      <td>1.000000</td>\n",
       "      <td>0.722222</td>\n",
       "    </tr>\n",
       "    <tr>\n",
       "      <th>HAARLEM MEER LIMITEDP</th>\n",
       "      <td>4</td>\n",
       "      <td>4</td>\n",
       "      <td>1.000000</td>\n",
       "      <td>0.722222</td>\n",
       "    </tr>\n",
       "    <tr>\n",
       "      <th>SP UPTOWN LLC</th>\n",
       "      <td>4</td>\n",
       "      <td>4</td>\n",
       "      <td>1.000000</td>\n",
       "      <td>0.722222</td>\n",
       "    </tr>\n",
       "    <tr>\n",
       "      <th>124 JAMAICA AV LLC</th>\n",
       "      <td>4</td>\n",
       "      <td>4</td>\n",
       "      <td>1.000000</td>\n",
       "      <td>0.722222</td>\n",
       "    </tr>\n",
       "    <tr>\n",
       "      <th>ST. MARKS ASSETS, INC</th>\n",
       "      <td>4</td>\n",
       "      <td>4</td>\n",
       "      <td>1.000000</td>\n",
       "      <td>0.722222</td>\n",
       "    </tr>\n",
       "    <tr>\n",
       "      <th>NEW FORDHAM HOUSINGDE</th>\n",
       "      <td>4</td>\n",
       "      <td>4</td>\n",
       "      <td>1.000000</td>\n",
       "      <td>0.722222</td>\n",
       "    </tr>\n",
       "    <tr>\n",
       "      <th>METROPOLITAN TERRACE</th>\n",
       "      <td>4</td>\n",
       "      <td>4</td>\n",
       "      <td>1.000000</td>\n",
       "      <td>0.722222</td>\n",
       "    </tr>\n",
       "    <tr>\n",
       "      <th>DANMOR REALTY CORP</th>\n",
       "      <td>4</td>\n",
       "      <td>4</td>\n",
       "      <td>1.000000</td>\n",
       "      <td>0.722222</td>\n",
       "    </tr>\n",
       "    <tr>\n",
       "      <th>AVENUE A SCHNEIDER PA</th>\n",
       "      <td>4</td>\n",
       "      <td>4</td>\n",
       "      <td>1.000000</td>\n",
       "      <td>0.722222</td>\n",
       "    </tr>\n",
       "    <tr>\n",
       "      <th>242-248 BAINBRIDGE RE</th>\n",
       "      <td>4</td>\n",
       "      <td>4</td>\n",
       "      <td>1.000000</td>\n",
       "      <td>0.722222</td>\n",
       "    </tr>\n",
       "    <tr>\n",
       "      <th>DDEH 1567 LEXINGTON L</th>\n",
       "      <td>4</td>\n",
       "      <td>4</td>\n",
       "      <td>1.000000</td>\n",
       "      <td>0.722222</td>\n",
       "    </tr>\n",
       "    <tr>\n",
       "      <th>ELSMERE LIMITED PARTN</th>\n",
       "      <td>4</td>\n",
       "      <td>4</td>\n",
       "      <td>1.000000</td>\n",
       "      <td>0.722222</td>\n",
       "    </tr>\n",
       "    <tr>\n",
       "      <th>GEORGE WANAT</th>\n",
       "      <td>4</td>\n",
       "      <td>4</td>\n",
       "      <td>1.000000</td>\n",
       "      <td>0.722222</td>\n",
       "    </tr>\n",
       "    <tr>\n",
       "      <th>LEXINGTON 100 PROPERT</th>\n",
       "      <td>4</td>\n",
       "      <td>4</td>\n",
       "      <td>1.000000</td>\n",
       "      <td>0.722222</td>\n",
       "    </tr>\n",
       "    <tr>\n",
       "      <th>BEECH TERRACE PARTNER</th>\n",
       "      <td>4</td>\n",
       "      <td>4</td>\n",
       "      <td>1.000000</td>\n",
       "      <td>0.722222</td>\n",
       "    </tr>\n",
       "    <tr>\n",
       "      <th>GIT LEB</th>\n",
       "      <td>4</td>\n",
       "      <td>4</td>\n",
       "      <td>1.000000</td>\n",
       "      <td>0.722222</td>\n",
       "    </tr>\n",
       "    <tr>\n",
       "      <th>NYSANDY12 CBP9 LLC</th>\n",
       "      <td>4</td>\n",
       "      <td>4</td>\n",
       "      <td>1.000000</td>\n",
       "      <td>0.722222</td>\n",
       "    </tr>\n",
       "    <tr>\n",
       "      <th>104-110 WEST 144 STRE</th>\n",
       "      <td>4</td>\n",
       "      <td>4</td>\n",
       "      <td>1.000000</td>\n",
       "      <td>0.722222</td>\n",
       "    </tr>\n",
       "    <tr>\n",
       "      <th>JACKSON-TRINITY HOUSI</th>\n",
       "      <td>4</td>\n",
       "      <td>4</td>\n",
       "      <td>1.000000</td>\n",
       "      <td>0.722222</td>\n",
       "    </tr>\n",
       "    <tr>\n",
       "      <th>UPORT LLC</th>\n",
       "      <td>4</td>\n",
       "      <td>4</td>\n",
       "      <td>1.000000</td>\n",
       "      <td>0.722222</td>\n",
       "    </tr>\n",
       "    <tr>\n",
       "      <th>ARDEN-VERMILYEA PROPE</th>\n",
       "      <td>4</td>\n",
       "      <td>4</td>\n",
       "      <td>1.000000</td>\n",
       "      <td>0.722222</td>\n",
       "    </tr>\n",
       "    <tr>\n",
       "      <th>BG REALTY 1574, LLC</th>\n",
       "      <td>4</td>\n",
       "      <td>4</td>\n",
       "      <td>1.000000</td>\n",
       "      <td>0.722222</td>\n",
       "    </tr>\n",
       "    <tr>\n",
       "      <th>LAFAYETTE MORRISON HD</th>\n",
       "      <td>4</td>\n",
       "      <td>4</td>\n",
       "      <td>1.000000</td>\n",
       "      <td>0.722222</td>\n",
       "    </tr>\n",
       "    <tr>\n",
       "      <th>ALDUS GREEN CORP</th>\n",
       "      <td>9</td>\n",
       "      <td>11</td>\n",
       "      <td>0.818182</td>\n",
       "      <td>0.718750</td>\n",
       "    </tr>\n",
       "    <tr>\n",
       "      <th>S-FIVE PROPERTIES LLC</th>\n",
       "      <td>6</td>\n",
       "      <td>7</td>\n",
       "      <td>0.857143</td>\n",
       "      <td>0.708333</td>\n",
       "    </tr>\n",
       "    <tr>\n",
       "      <th>COSMOPOLITAN ASSOCIAT</th>\n",
       "      <td>6</td>\n",
       "      <td>7</td>\n",
       "      <td>0.857143</td>\n",
       "      <td>0.708333</td>\n",
       "    </tr>\n",
       "    <tr>\n",
       "      <th>POKO-ST ANNS L.P.</th>\n",
       "      <td>6</td>\n",
       "      <td>7</td>\n",
       "      <td>0.857143</td>\n",
       "      <td>0.708333</td>\n",
       "    </tr>\n",
       "    <tr>\n",
       "      <th>GVS PROPERTIES, LLC</th>\n",
       "      <td>6</td>\n",
       "      <td>7</td>\n",
       "      <td>0.857143</td>\n",
       "      <td>0.708333</td>\n",
       "    </tr>\n",
       "    <tr>\n",
       "      <th>ELMHURST WOODSIDE LLC</th>\n",
       "      <td>6</td>\n",
       "      <td>7</td>\n",
       "      <td>0.857143</td>\n",
       "      <td>0.708333</td>\n",
       "    </tr>\n",
       "    <tr>\n",
       "      <th>UNITED NEIGHBORS HOUS</th>\n",
       "      <td>8</td>\n",
       "      <td>10</td>\n",
       "      <td>0.800000</td>\n",
       "      <td>0.700000</td>\n",
       "    </tr>\n",
       "  </tbody>\n",
       "</table>\n",
       "</div>"
      ],
      "text/plain": [
       "                       # offending buildings  # buildings owned     ratio  \\\n",
       "OwnerName                                                                   \n",
       "TROY INDUSTRIES, LLC                       6                  6  1.000000   \n",
       "UNION STREET HOUSES O                      6                  6  1.000000   \n",
       "EAST TREMONT BRONX HO                      6                  6  1.000000   \n",
       "NEWSTART PROPERTIES,I                      6                  6  1.000000   \n",
       "CYPRESS COURT ASSOCIA                      6                  6  1.000000   \n",
       "ADONAI REALTY L.P.                         6                  6  1.000000   \n",
       "GVS PROPERTIES IV, LL                      9                 10  0.900000   \n",
       "COBB REALTY LLC                            5                  5  1.000000   \n",
       "NEIGHBORHOOD STAB ASO                      5                  5  1.000000   \n",
       "ZEV ZAFIR INC.                             5                  5  1.000000   \n",
       "WFHA BROOKLYN RESTORA                      5                  5  1.000000   \n",
       "GREENPORT PRESERVATIO                      5                  5  1.000000   \n",
       "ZEVRONE REALTY CORP                       10                 12  0.833333   \n",
       "NY AFFORDABLE HOUSING                      7                  8  0.875000   \n",
       "HIGHBRIDGE COMMUNITY/                      7                  8  0.875000   \n",
       "REGO REALTY LLC                            4                  4  1.000000   \n",
       "LUCKY 430 REALTY LLC                       4                  4  1.000000   \n",
       "GRAND AVENUE INVESTOR                      4                  4  1.000000   \n",
       "ELMBACK OWNERS                             4                  4  1.000000   \n",
       "RECLAIM ROUND II HOUS                      4                  4  1.000000   \n",
       "MMIKP BRONX REALTY LL                      4                  4  1.000000   \n",
       "HAARLEM MEER LIMITEDP                      4                  4  1.000000   \n",
       "SP UPTOWN LLC                              4                  4  1.000000   \n",
       "124 JAMAICA AV LLC                         4                  4  1.000000   \n",
       "ST. MARKS ASSETS, INC                      4                  4  1.000000   \n",
       "NEW FORDHAM HOUSINGDE                      4                  4  1.000000   \n",
       "METROPOLITAN TERRACE                       4                  4  1.000000   \n",
       "DANMOR REALTY CORP                         4                  4  1.000000   \n",
       "AVENUE A SCHNEIDER PA                      4                  4  1.000000   \n",
       "242-248 BAINBRIDGE RE                      4                  4  1.000000   \n",
       "DDEH 1567 LEXINGTON L                      4                  4  1.000000   \n",
       "ELSMERE LIMITED PARTN                      4                  4  1.000000   \n",
       "GEORGE WANAT                               4                  4  1.000000   \n",
       "LEXINGTON 100 PROPERT                      4                  4  1.000000   \n",
       "BEECH TERRACE PARTNER                      4                  4  1.000000   \n",
       "GIT LEB                                    4                  4  1.000000   \n",
       "NYSANDY12 CBP9 LLC                         4                  4  1.000000   \n",
       "104-110 WEST 144 STRE                      4                  4  1.000000   \n",
       "JACKSON-TRINITY HOUSI                      4                  4  1.000000   \n",
       "UPORT LLC                                  4                  4  1.000000   \n",
       "ARDEN-VERMILYEA PROPE                      4                  4  1.000000   \n",
       "BG REALTY 1574, LLC                        4                  4  1.000000   \n",
       "LAFAYETTE MORRISON HD                      4                  4  1.000000   \n",
       "ALDUS GREEN CORP                           9                 11  0.818182   \n",
       "S-FIVE PROPERTIES LLC                      6                  7  0.857143   \n",
       "COSMOPOLITAN ASSOCIAT                      6                  7  0.857143   \n",
       "POKO-ST ANNS L.P.                          6                  7  0.857143   \n",
       "GVS PROPERTIES, LLC                        6                  7  0.857143   \n",
       "ELMHURST WOODSIDE LLC                      6                  7  0.857143   \n",
       "UNITED NEIGHBORS HOUS                      8                 10  0.800000   \n",
       "\n",
       "                       bayesian_ratio  \n",
       "OwnerName                              \n",
       "TROY INDUSTRIES, LLC         0.772727  \n",
       "UNION STREET HOUSES O        0.772727  \n",
       "EAST TREMONT BRONX HO        0.772727  \n",
       "NEWSTART PROPERTIES,I        0.772727  \n",
       "CYPRESS COURT ASSOCIA        0.772727  \n",
       "ADONAI REALTY L.P.           0.772727  \n",
       "GVS PROPERTIES IV, LL        0.766667  \n",
       "COBB REALTY LLC              0.750000  \n",
       "NEIGHBORHOOD STAB ASO        0.750000  \n",
       "ZEV ZAFIR INC.               0.750000  \n",
       "WFHA BROOKLYN RESTORA        0.750000  \n",
       "GREENPORT PRESERVATIO        0.750000  \n",
       "ZEVRONE REALTY CORP          0.735294  \n",
       "NY AFFORDABLE HOUSING        0.730769  \n",
       "HIGHBRIDGE COMMUNITY/        0.730769  \n",
       "REGO REALTY LLC              0.722222  \n",
       "LUCKY 430 REALTY LLC         0.722222  \n",
       "GRAND AVENUE INVESTOR        0.722222  \n",
       "ELMBACK OWNERS               0.722222  \n",
       "RECLAIM ROUND II HOUS        0.722222  \n",
       "MMIKP BRONX REALTY LL        0.722222  \n",
       "HAARLEM MEER LIMITEDP        0.722222  \n",
       "SP UPTOWN LLC                0.722222  \n",
       "124 JAMAICA AV LLC           0.722222  \n",
       "ST. MARKS ASSETS, INC        0.722222  \n",
       "NEW FORDHAM HOUSINGDE        0.722222  \n",
       "METROPOLITAN TERRACE         0.722222  \n",
       "DANMOR REALTY CORP           0.722222  \n",
       "AVENUE A SCHNEIDER PA        0.722222  \n",
       "242-248 BAINBRIDGE RE        0.722222  \n",
       "DDEH 1567 LEXINGTON L        0.722222  \n",
       "ELSMERE LIMITED PARTN        0.722222  \n",
       "GEORGE WANAT                 0.722222  \n",
       "LEXINGTON 100 PROPERT        0.722222  \n",
       "BEECH TERRACE PARTNER        0.722222  \n",
       "GIT LEB                      0.722222  \n",
       "NYSANDY12 CBP9 LLC           0.722222  \n",
       "104-110 WEST 144 STRE        0.722222  \n",
       "JACKSON-TRINITY HOUSI        0.722222  \n",
       "UPORT LLC                    0.722222  \n",
       "ARDEN-VERMILYEA PROPE        0.722222  \n",
       "BG REALTY 1574, LLC          0.722222  \n",
       "LAFAYETTE MORRISON HD        0.722222  \n",
       "ALDUS GREEN CORP             0.718750  \n",
       "S-FIVE PROPERTIES LLC        0.708333  \n",
       "COSMOPOLITAN ASSOCIAT        0.708333  \n",
       "POKO-ST ANNS L.P.            0.708333  \n",
       "GVS PROPERTIES, LLC          0.708333  \n",
       "ELMHURST WOODSIDE LLC        0.708333  \n",
       "UNITED NEIGHBORS HOUS        0.700000  "
      ]
     },
     "execution_count": 127,
     "metadata": {},
     "output_type": "execute_result"
    }
   ],
   "source": [
    "joined['bayesian_ratio'] = (joined[\"# offending buildings\"] + 5 * .5)/ (joined['# buildings owned'] + 5)\n",
    "joined.sort_values('bayesian_ratio', ascending=False).head(50)"
   ]
  },
  {
   "cell_type": "markdown",
   "metadata": {},
   "source": [
    "This does a good job of pulling out owners with ~the number of buildings we'd expect who have received at least one complaint in each building. Interestingly, 430 Realty has been in at least one easily found rent control case: http://caselaw.findlaw.com/ny-civil-court/1179288.html\n",
    "\n",
    "But, maybe a single complaint isn't the right proxy."
   ]
  },
  {
   "cell_type": "markdown",
   "metadata": {},
   "source": [
    "### Complaint Filtering\n",
    "As above, let's look at complaints that actually resulted in a violation. `bad_complaints` is the name of the variable from above. "
   ]
  },
  {
   "cell_type": "code",
   "execution_count": 48,
   "metadata": {
    "collapsed": false
   },
   "outputs": [],
   "source": [
    "bad_merged = bad_complaints.merge(owns_multiple_buildings, on=\"zipaddress\")\n",
    "bad_num_offending_buildings = bad_merged.groupby(\"zipaddress\").first().reset_index().groupby(\"OwnerName_x\").size().sort_values(ascending=False).to_frame()\n",
    "bad_num_offending_buildings.columns = [\"# offending buildings\"]"
   ]
  },
  {
   "cell_type": "code",
   "execution_count": 79,
   "metadata": {
    "collapsed": false
   },
   "outputs": [
    {
     "data": {
      "text/html": [
       "<div>\n",
       "<table border=\"1\" class=\"dataframe\">\n",
       "  <thead>\n",
       "    <tr style=\"text-align: right;\">\n",
       "      <th></th>\n",
       "      <th># offending buildings</th>\n",
       "      <th># buildings owned</th>\n",
       "      <th>ratio</th>\n",
       "    </tr>\n",
       "    <tr>\n",
       "      <th>OwnerName_x</th>\n",
       "      <th></th>\n",
       "      <th></th>\n",
       "      <th></th>\n",
       "    </tr>\n",
       "  </thead>\n",
       "  <tbody>\n",
       "    <tr>\n",
       "      <th>NIEVES, JOAN</th>\n",
       "      <td>2</td>\n",
       "      <td>2</td>\n",
       "      <td>1.0</td>\n",
       "    </tr>\n",
       "    <tr>\n",
       "      <th>DESPERATION HOUSING D</th>\n",
       "      <td>2</td>\n",
       "      <td>2</td>\n",
       "      <td>1.0</td>\n",
       "    </tr>\n",
       "  </tbody>\n",
       "</table>\n",
       "</div>"
      ],
      "text/plain": [
       "                       # offending buildings  # buildings owned  ratio\n",
       "OwnerName_x                                                           \n",
       "NIEVES, JOAN                               2                  2    1.0\n",
       "DESPERATION HOUSING D                      2                  2    1.0"
      ]
     },
     "execution_count": 79,
     "metadata": {},
     "output_type": "execute_result"
    }
   ],
   "source": [
    "bad_joined = bad_num_offending_buildings.join(baseline)\n",
    "bad_joined['ratio'] = (bad_joined[\"# offending buildings\"]/joined['# buildings owned'])\n",
    "bad_joined.sort_values('ratio', ascending=False).head(2)"
   ]
  },
  {
   "cell_type": "code",
   "execution_count": 138,
   "metadata": {
    "collapsed": false,
    "scrolled": true
   },
   "outputs": [
    {
     "data": {
      "text/html": [
       "<div>\n",
       "<table border=\"1\" class=\"dataframe\">\n",
       "  <thead>\n",
       "    <tr style=\"text-align: right;\">\n",
       "      <th></th>\n",
       "      <th># offending buildings</th>\n",
       "      <th># buildings owned</th>\n",
       "      <th>ratio</th>\n",
       "      <th>bayesian_ratio</th>\n",
       "    </tr>\n",
       "    <tr>\n",
       "      <th>OwnerName_x</th>\n",
       "      <th></th>\n",
       "      <th></th>\n",
       "      <th></th>\n",
       "      <th></th>\n",
       "    </tr>\n",
       "  </thead>\n",
       "  <tbody>\n",
       "    <tr>\n",
       "      <th>SILVERSHORE PROPERTIE</th>\n",
       "      <td>9</td>\n",
       "      <td>68</td>\n",
       "      <td>0.132353</td>\n",
       "      <td>0.157534</td>\n",
       "    </tr>\n",
       "    <tr>\n",
       "      <th>2166 DEAN LLC</th>\n",
       "      <td>5</td>\n",
       "      <td>27</td>\n",
       "      <td>0.185185</td>\n",
       "      <td>0.234375</td>\n",
       "    </tr>\n",
       "    <tr>\n",
       "      <th>WELLS FARGO BANK, N.A</th>\n",
       "      <td>4</td>\n",
       "      <td>53</td>\n",
       "      <td>0.075472</td>\n",
       "      <td>0.112069</td>\n",
       "    </tr>\n",
       "    <tr>\n",
       "      <th>HPENY HOUSING DEVELOP</th>\n",
       "      <td>4</td>\n",
       "      <td>45</td>\n",
       "      <td>0.088889</td>\n",
       "      <td>0.130000</td>\n",
       "    </tr>\n",
       "    <tr>\n",
       "      <th>EAST TREMONT BRONX HO</th>\n",
       "      <td>4</td>\n",
       "      <td>6</td>\n",
       "      <td>0.666667</td>\n",
       "      <td>0.590909</td>\n",
       "    </tr>\n",
       "  </tbody>\n",
       "</table>\n",
       "</div>"
      ],
      "text/plain": [
       "                       # offending buildings  # buildings owned     ratio  \\\n",
       "OwnerName_x                                                                 \n",
       "SILVERSHORE PROPERTIE                      9                 68  0.132353   \n",
       "2166 DEAN LLC                              5                 27  0.185185   \n",
       "WELLS FARGO BANK, N.A                      4                 53  0.075472   \n",
       "HPENY HOUSING DEVELOP                      4                 45  0.088889   \n",
       "EAST TREMONT BRONX HO                      4                  6  0.666667   \n",
       "\n",
       "                       bayesian_ratio  \n",
       "OwnerName_x                            \n",
       "SILVERSHORE PROPERTIE        0.157534  \n",
       "2166 DEAN LLC                0.234375  \n",
       "WELLS FARGO BANK, N.A        0.112069  \n",
       "HPENY HOUSING DEVELOP        0.130000  \n",
       "EAST TREMONT BRONX HO        0.590909  "
      ]
     },
     "execution_count": 138,
     "metadata": {},
     "output_type": "execute_result"
    }
   ],
   "source": [
    "bad_joined.sort_values(\"# offending buildings\", ascending=False).head(5)"
   ]
  },
  {
   "cell_type": "code",
   "execution_count": 135,
   "metadata": {
    "collapsed": false,
    "scrolled": true
   },
   "outputs": [
    {
     "data": {
      "text/html": [
       "<div>\n",
       "<table border=\"1\" class=\"dataframe\">\n",
       "  <thead>\n",
       "    <tr style=\"text-align: right;\">\n",
       "      <th></th>\n",
       "      <th># offending buildings</th>\n",
       "      <th># buildings owned</th>\n",
       "      <th>ratio</th>\n",
       "      <th>bayesian_ratio</th>\n",
       "    </tr>\n",
       "    <tr>\n",
       "      <th>OwnerName_x</th>\n",
       "      <th></th>\n",
       "      <th></th>\n",
       "      <th></th>\n",
       "      <th></th>\n",
       "    </tr>\n",
       "  </thead>\n",
       "  <tbody>\n",
       "    <tr>\n",
       "      <th>GIT LEB</th>\n",
       "      <td>4</td>\n",
       "      <td>4</td>\n",
       "      <td>1.00</td>\n",
       "      <td>0.722222</td>\n",
       "    </tr>\n",
       "    <tr>\n",
       "      <th>PENNSYLVANIA AVENUE A</th>\n",
       "      <td>3</td>\n",
       "      <td>3</td>\n",
       "      <td>1.00</td>\n",
       "      <td>0.687500</td>\n",
       "    </tr>\n",
       "    <tr>\n",
       "      <th>4640 BROADWAY LLC</th>\n",
       "      <td>3</td>\n",
       "      <td>3</td>\n",
       "      <td>1.00</td>\n",
       "      <td>0.687500</td>\n",
       "    </tr>\n",
       "    <tr>\n",
       "      <th>146-150 TENTH ASSOCIA</th>\n",
       "      <td>3</td>\n",
       "      <td>3</td>\n",
       "      <td>1.00</td>\n",
       "      <td>0.687500</td>\n",
       "    </tr>\n",
       "    <tr>\n",
       "      <th>NIEVES, JOAN</th>\n",
       "      <td>2</td>\n",
       "      <td>2</td>\n",
       "      <td>1.00</td>\n",
       "      <td>0.642857</td>\n",
       "    </tr>\n",
       "    <tr>\n",
       "      <th>J F DAVIDSON REALTY C</th>\n",
       "      <td>2</td>\n",
       "      <td>2</td>\n",
       "      <td>1.00</td>\n",
       "      <td>0.642857</td>\n",
       "    </tr>\n",
       "    <tr>\n",
       "      <th>RIVLIN HOUSING ASSOCI</th>\n",
       "      <td>2</td>\n",
       "      <td>2</td>\n",
       "      <td>1.00</td>\n",
       "      <td>0.642857</td>\n",
       "    </tr>\n",
       "    <tr>\n",
       "      <th>AMSTERDAM 2228 LLC</th>\n",
       "      <td>2</td>\n",
       "      <td>2</td>\n",
       "      <td>1.00</td>\n",
       "      <td>0.642857</td>\n",
       "    </tr>\n",
       "    <tr>\n",
       "      <th>INDO-CANADIAN REALTYC</th>\n",
       "      <td>2</td>\n",
       "      <td>2</td>\n",
       "      <td>1.00</td>\n",
       "      <td>0.642857</td>\n",
       "    </tr>\n",
       "    <tr>\n",
       "      <th>FORDHAM FULTON REALTY</th>\n",
       "      <td>2</td>\n",
       "      <td>2</td>\n",
       "      <td>1.00</td>\n",
       "      <td>0.642857</td>\n",
       "    </tr>\n",
       "    <tr>\n",
       "      <th>EMMA, LEONARD</th>\n",
       "      <td>2</td>\n",
       "      <td>2</td>\n",
       "      <td>1.00</td>\n",
       "      <td>0.642857</td>\n",
       "    </tr>\n",
       "    <tr>\n",
       "      <th>LAURA MCCARTHY</th>\n",
       "      <td>2</td>\n",
       "      <td>2</td>\n",
       "      <td>1.00</td>\n",
       "      <td>0.642857</td>\n",
       "    </tr>\n",
       "    <tr>\n",
       "      <th>DESPERATION HOUSING D</th>\n",
       "      <td>2</td>\n",
       "      <td>2</td>\n",
       "      <td>1.00</td>\n",
       "      <td>0.642857</td>\n",
       "    </tr>\n",
       "    <tr>\n",
       "      <th>PETERSON CAPITAL LLC</th>\n",
       "      <td>2</td>\n",
       "      <td>2</td>\n",
       "      <td>1.00</td>\n",
       "      <td>0.642857</td>\n",
       "    </tr>\n",
       "    <tr>\n",
       "      <th>MOUNT MORRIS HOUSING</th>\n",
       "      <td>2</td>\n",
       "      <td>2</td>\n",
       "      <td>1.00</td>\n",
       "      <td>0.642857</td>\n",
       "    </tr>\n",
       "    <tr>\n",
       "      <th>NELSON, LANSFORD</th>\n",
       "      <td>2</td>\n",
       "      <td>2</td>\n",
       "      <td>1.00</td>\n",
       "      <td>0.642857</td>\n",
       "    </tr>\n",
       "    <tr>\n",
       "      <th>CASCADE PROPERTY MANA</th>\n",
       "      <td>2</td>\n",
       "      <td>2</td>\n",
       "      <td>1.00</td>\n",
       "      <td>0.642857</td>\n",
       "    </tr>\n",
       "    <tr>\n",
       "      <th>3343-3345 DECATUR AVE</th>\n",
       "      <td>2</td>\n",
       "      <td>2</td>\n",
       "      <td>1.00</td>\n",
       "      <td>0.642857</td>\n",
       "    </tr>\n",
       "    <tr>\n",
       "      <th>2755-69 SEDGWICK LLC</th>\n",
       "      <td>2</td>\n",
       "      <td>2</td>\n",
       "      <td>1.00</td>\n",
       "      <td>0.642857</td>\n",
       "    </tr>\n",
       "    <tr>\n",
       "      <th>1245 STRATFORD LLC</th>\n",
       "      <td>2</td>\n",
       "      <td>2</td>\n",
       "      <td>1.00</td>\n",
       "      <td>0.642857</td>\n",
       "    </tr>\n",
       "    <tr>\n",
       "      <th>TOWNSEND AVE ENTERPRI</th>\n",
       "      <td>2</td>\n",
       "      <td>2</td>\n",
       "      <td>1.00</td>\n",
       "      <td>0.642857</td>\n",
       "    </tr>\n",
       "    <tr>\n",
       "      <th>2089 91 AMSTERDAM AVE</th>\n",
       "      <td>2</td>\n",
       "      <td>2</td>\n",
       "      <td>1.00</td>\n",
       "      <td>0.642857</td>\n",
       "    </tr>\n",
       "    <tr>\n",
       "      <th>RDSO ASSOCIATES L P</th>\n",
       "      <td>2</td>\n",
       "      <td>2</td>\n",
       "      <td>1.00</td>\n",
       "      <td>0.642857</td>\n",
       "    </tr>\n",
       "    <tr>\n",
       "      <th>125-127 ALLEN ST ASSO</th>\n",
       "      <td>2</td>\n",
       "      <td>2</td>\n",
       "      <td>1.00</td>\n",
       "      <td>0.642857</td>\n",
       "    </tr>\n",
       "    <tr>\n",
       "      <th>BEECH TERRACE PARTNER</th>\n",
       "      <td>3</td>\n",
       "      <td>4</td>\n",
       "      <td>0.75</td>\n",
       "      <td>0.611111</td>\n",
       "    </tr>\n",
       "  </tbody>\n",
       "</table>\n",
       "</div>"
      ],
      "text/plain": [
       "                       # offending buildings  # buildings owned  ratio  \\\n",
       "OwnerName_x                                                              \n",
       "GIT LEB                                    4                  4   1.00   \n",
       "PENNSYLVANIA AVENUE A                      3                  3   1.00   \n",
       "4640 BROADWAY LLC                          3                  3   1.00   \n",
       "146-150 TENTH ASSOCIA                      3                  3   1.00   \n",
       "NIEVES, JOAN                               2                  2   1.00   \n",
       "J F DAVIDSON REALTY C                      2                  2   1.00   \n",
       "RIVLIN HOUSING ASSOCI                      2                  2   1.00   \n",
       "AMSTERDAM 2228 LLC                         2                  2   1.00   \n",
       "INDO-CANADIAN REALTYC                      2                  2   1.00   \n",
       "FORDHAM FULTON REALTY                      2                  2   1.00   \n",
       "EMMA, LEONARD                              2                  2   1.00   \n",
       "LAURA MCCARTHY                             2                  2   1.00   \n",
       "DESPERATION HOUSING D                      2                  2   1.00   \n",
       "PETERSON CAPITAL LLC                       2                  2   1.00   \n",
       "MOUNT MORRIS HOUSING                       2                  2   1.00   \n",
       "NELSON, LANSFORD                           2                  2   1.00   \n",
       "CASCADE PROPERTY MANA                      2                  2   1.00   \n",
       "3343-3345 DECATUR AVE                      2                  2   1.00   \n",
       "2755-69 SEDGWICK LLC                       2                  2   1.00   \n",
       "1245 STRATFORD LLC                         2                  2   1.00   \n",
       "TOWNSEND AVE ENTERPRI                      2                  2   1.00   \n",
       "2089 91 AMSTERDAM AVE                      2                  2   1.00   \n",
       "RDSO ASSOCIATES L P                        2                  2   1.00   \n",
       "125-127 ALLEN ST ASSO                      2                  2   1.00   \n",
       "BEECH TERRACE PARTNER                      3                  4   0.75   \n",
       "\n",
       "                       bayesian_ratio  \n",
       "OwnerName_x                            \n",
       "GIT LEB                      0.722222  \n",
       "PENNSYLVANIA AVENUE A        0.687500  \n",
       "4640 BROADWAY LLC            0.687500  \n",
       "146-150 TENTH ASSOCIA        0.687500  \n",
       "NIEVES, JOAN                 0.642857  \n",
       "J F DAVIDSON REALTY C        0.642857  \n",
       "RIVLIN HOUSING ASSOCI        0.642857  \n",
       "AMSTERDAM 2228 LLC           0.642857  \n",
       "INDO-CANADIAN REALTYC        0.642857  \n",
       "FORDHAM FULTON REALTY        0.642857  \n",
       "EMMA, LEONARD                0.642857  \n",
       "LAURA MCCARTHY               0.642857  \n",
       "DESPERATION HOUSING D        0.642857  \n",
       "PETERSON CAPITAL LLC         0.642857  \n",
       "MOUNT MORRIS HOUSING         0.642857  \n",
       "NELSON, LANSFORD             0.642857  \n",
       "CASCADE PROPERTY MANA        0.642857  \n",
       "3343-3345 DECATUR AVE        0.642857  \n",
       "2755-69 SEDGWICK LLC         0.642857  \n",
       "1245 STRATFORD LLC           0.642857  \n",
       "TOWNSEND AVE ENTERPRI        0.642857  \n",
       "2089 91 AMSTERDAM AVE        0.642857  \n",
       "RDSO ASSOCIATES L P          0.642857  \n",
       "125-127 ALLEN ST ASSO        0.642857  \n",
       "BEECH TERRACE PARTNER        0.611111  "
      ]
     },
     "execution_count": 135,
     "metadata": {},
     "output_type": "execute_result"
    }
   ],
   "source": [
    "bad_joined['bayesian_ratio'] = (bad_joined[\"# offending buildings\"] + 5 * .5)/ (bad_joined['# buildings owned'] + 5)\n",
    "bad_joined.sort_values('bayesian_ratio', ascending=False).head(25)"
   ]
  },
  {
   "cell_type": "markdown",
   "metadata": {},
   "source": [
    "Some similar names, but our numbers are getting small."
   ]
  },
  {
   "cell_type": "markdown",
   "metadata": {},
   "source": [
    "## Modelling\n",
    "Another way to look at this is by using a linear regression. \n",
    "\n",
    "This takes the number of buildings owned by a landlord and attempts to set a baseline understanding for number of heat / hot water violations. We then take the largest residual values and look at those. The idea is quite similar to the above analysis. \n",
    "\n",
    "I used a ridge regression with alpha = 2 to penalize a large slope.\n",
    "\n",
    "#### These are the descriptive statistics and scatterplot for the two key variables."
   ]
  },
  {
   "cell_type": "code",
   "execution_count": 136,
   "metadata": {
    "collapsed": false
   },
   "outputs": [
    {
     "data": {
      "text/html": [
       "<div>\n",
       "<table border=\"1\" class=\"dataframe\">\n",
       "  <thead>\n",
       "    <tr style=\"text-align: right;\">\n",
       "      <th></th>\n",
       "      <th># buildings owned</th>\n",
       "      <th># offending buildings</th>\n",
       "    </tr>\n",
       "  </thead>\n",
       "  <tbody>\n",
       "    <tr>\n",
       "      <th>count</th>\n",
       "      <td>768.000000</td>\n",
       "      <td>768.000000</td>\n",
       "    </tr>\n",
       "    <tr>\n",
       "      <th>mean</th>\n",
       "      <td>4.817708</td>\n",
       "      <td>1.169271</td>\n",
       "    </tr>\n",
       "    <tr>\n",
       "      <th>std</th>\n",
       "      <td>7.409997</td>\n",
       "      <td>0.564018</td>\n",
       "    </tr>\n",
       "    <tr>\n",
       "      <th>min</th>\n",
       "      <td>2.000000</td>\n",
       "      <td>1.000000</td>\n",
       "    </tr>\n",
       "    <tr>\n",
       "      <th>25%</th>\n",
       "      <td>2.000000</td>\n",
       "      <td>1.000000</td>\n",
       "    </tr>\n",
       "    <tr>\n",
       "      <th>50%</th>\n",
       "      <td>3.000000</td>\n",
       "      <td>1.000000</td>\n",
       "    </tr>\n",
       "    <tr>\n",
       "      <th>75%</th>\n",
       "      <td>4.000000</td>\n",
       "      <td>1.000000</td>\n",
       "    </tr>\n",
       "    <tr>\n",
       "      <th>max</th>\n",
       "      <td>79.000000</td>\n",
       "      <td>9.000000</td>\n",
       "    </tr>\n",
       "  </tbody>\n",
       "</table>\n",
       "</div>"
      ],
      "text/plain": [
       "       # buildings owned  # offending buildings\n",
       "count         768.000000             768.000000\n",
       "mean            4.817708               1.169271\n",
       "std             7.409997               0.564018\n",
       "min             2.000000               1.000000\n",
       "25%             2.000000               1.000000\n",
       "50%             3.000000               1.000000\n",
       "75%             4.000000               1.000000\n",
       "max            79.000000               9.000000"
      ]
     },
     "execution_count": 136,
     "metadata": {},
     "output_type": "execute_result"
    }
   ],
   "source": [
    "bad_joined[[\"# buildings owned\", \"# offending buildings\"]].describe()"
   ]
  },
  {
   "cell_type": "code",
   "execution_count": 122,
   "metadata": {
    "collapsed": false
   },
   "outputs": [
    {
     "data": {
      "text/plain": [
       "<matplotlib.axes._subplots.AxesSubplot at 0x7f46b7eb4890>"
      ]
     },
     "execution_count": 122,
     "metadata": {},
     "output_type": "execute_result"
    },
    {
     "data": {
      "image/png": "[encoded data removed]",
      "text/plain": [
       "<matplotlib.figure.Figure at 0x7f46baaef350>"
      ]
     },
     "metadata": {},
     "output_type": "display_data"
    }
   ],
   "source": [
    "bad_joined.plot(\"# buildings owned\", \"# offending buildings\", kind='scatter')"
   ]
  },
  {
   "cell_type": "code",
   "execution_count": 123,
   "metadata": {
    "collapsed": false
   },
   "outputs": [
    {
     "name": "stderr",
     "output_type": "stream",
     "text": [
      "/opt/conda/lib/python2.7/site-packages/ipykernel/__main__.py:3: FutureWarning: reshape is deprecated and will raise in a subsequent release. Please use .values.reshape(...) instead\n",
      "  app.launch_new_instance()\n"
     ]
    }
   ],
   "source": [
    "from sklearn.linear_model import Ridge\n",
    "len(bad_joined[\"# buildings owned\"])\n",
    "lr = Ridge(alpha=2).fit(bad_joined[\"# buildings owned\"].reshape(-1, 1), bad_joined[\"# offending buildings\"])"
   ]
  },
  {
   "cell_type": "code",
   "execution_count": 124,
   "metadata": {
    "collapsed": false
   },
   "outputs": [
    {
     "name": "stderr",
     "output_type": "stream",
     "text": [
      "/opt/conda/lib/python2.7/site-packages/ipykernel/__main__.py:1: FutureWarning: reshape is deprecated and will raise in a subsequent release. Please use .values.reshape(...) instead\n",
      "  if __name__ == '__main__':\n"
     ]
    },
    {
     "data": {
      "text/plain": [
       "[<matplotlib.lines.Line2D at 0x7f46b5c9c410>]"
      ]
     },
     "execution_count": 124,
     "metadata": {},
     "output_type": "execute_result"
    },
    {
     "data": {
      "image/png": "[encoded data removed]",
      "text/plain": [
       "<matplotlib.figure.Figure at 0x7f468c24d190>"
      ]
     },
     "metadata": {},
     "output_type": "display_data"
    }
   ],
   "source": [
    "results = lr.predict(bad_joined[\"# buildings owned\"].reshape(-1, 1))\n",
    "ax = bad_joined.plot(\"# buildings owned\", \"# offending buildings\", kind='scatter')\n",
    "ax.plot(bad_joined['# buildings owned'], results)"
   ]
  },
  {
   "cell_type": "code",
   "execution_count": 126,
   "metadata": {
    "collapsed": false
   },
   "outputs": [
    {
     "data": {
      "text/plain": [
       "OwnerName_x\n",
       "SILVERSHORE PROPERTIE    5.516405\n",
       "2166 DEAN LLC            3.018207\n",
       "GIT LEB                  2.860681\n",
       "EAST TREMONT BRONX HO    2.787423\n",
       "JAIDYN REALTY HOUSING    2.750793\n",
       "THE BANK OF NEW YORK     2.091466\n",
       "146-150 TENTH ASSOCIA    1.897311\n",
       "4640 BROADWAY LLC        1.897311\n",
       "PENNSYLVANIA AVENUE A    1.897311\n",
       "BEECH TERRACE PARTNER    1.860681\n",
       "TROY INDUSTRIES, LLC     1.787423\n",
       "GRAND CONCOURSE EASTH    1.714164\n",
       "BSDC KINGS COVENANT H    1.677535\n",
       "VED PARKASH              1.567647\n",
       "UHAB HOUSING DEVELOPM    1.531017\n",
       "HP GENESIS Y15 HOUSIN    1.531017\n",
       "HPENY HOUSING DEVELOP    1.358879\n",
       "CPE HOUSING DEVELOPME    1.311241\n",
       "WELLS FARGO BANK, N.A    1.065845\n",
       "NELSON, LANSFORD         0.933940\n",
       "Name: # offending buildings, dtype: float64"
      ]
     },
     "execution_count": 126,
     "metadata": {},
     "output_type": "execute_result"
    }
   ],
   "source": [
    "(bad_joined['# offending buildings'] - results).sort_values(ascending=False).head(20)"
   ]
  },
  {
   "cell_type": "markdown",
   "metadata": {},
   "source": [
    "Aaand there's Ved Parkash, a notorious slumlord - along with some of the other names we've been seeing in our other lists.\n",
    "\n",
    "- https://therealdeal.com/new-research/topics/company/ved-parkash/\n",
    "\n",
    "We also see Silvershore Properties, who has been in hot water (pun intended) very recently.\n",
    "- https://www.dnainfo.com/new-york/20170613/greenpoint/silvershore-properties-landlord-tenant-mold-mice-rats-hpd-dob"
   ]
  },
  {
   "cell_type": "markdown",
   "metadata": {},
   "source": [
    "## Remarks and how to use this analysis\n",
    "\n",
    "### How to use\n",
    "I'd probably take these values and look in gentrifying / contentious areas where we'd expect landlords to profit by residents out. I'm partial to the Bayesian ratio myself. But the regression does produce interesting results, by the ever-reliable \"Google for news articles\" metric.\n",
    "\n",
    "\n",
    "### Who can use (city agencies)\n",
    "HPD could use this.\n",
    "\n",
    "### Future improvements\n",
    "** Data Cleaning ** - I joined the data with a really sketchy maneuver (taking address + zipcode). I also see \"PARKASH, VED\" , \"PARKASH VED\", and \"VED PARKASH\" under \"OwnerName\" which all refer to the same slumlord. \n",
    "\n",
    "** Other features / complaints ** - this is just one dimension of ways landlords can push tenants out. We'd want to look at other dimensions.\n",
    "\n",
    "** Incorporating rent stabilization data** - I'd like to include data about rent stabilized properties here. This is all properties, so we don't get a sense of what landlords might be incentivized to push out their tenants."
   ]
  },
  {
   "cell_type": "code",
   "execution_count": null,
   "metadata": {
    "collapsed": true
   },
   "outputs": [],
   "source": []
  }
 ],
 "metadata": {
  "kernelspec": {
   "display_name": "Python 2",
   "language": "python",
   "name": "python2"
  },
  "language_info": {
   "codemirror_mode": {
    "name": "ipython",
    "version": 2
   },
   "file_extension": ".py",
   "mimetype": "text/x-python",
   "name": "python",
   "nbconvert_exporter": "python",
   "pygments_lexer": "ipython2",
   "version": "2.7.12"
  }
 },
 "nbformat": 4,
 "nbformat_minor": 0
}
